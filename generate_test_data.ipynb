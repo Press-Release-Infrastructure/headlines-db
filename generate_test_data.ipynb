{
 "cells": [
  {
   "cell_type": "code",
   "execution_count": 5,
   "metadata": {},
   "outputs": [],
   "source": [
    "import pandas as pd\n",
    "import random"
   ]
  },
  {
   "cell_type": "code",
   "execution_count": 8,
   "metadata": {},
   "outputs": [],
   "source": [
    "# generate test initial survey\n",
    "\n",
    "prolific_id = [\n",
    "    'a',\n",
    "    'b',\n",
    "    'ab',\n",
    "    'c',\n",
    "    'a',\n",
    "    'a',\n",
    "    'c',\n",
    "    'b',\n",
    "    'b',\n",
    "    'b',\n",
    "    'ab',\n",
    "    'ab',\n",
    "]\n",
    "\n",
    "response_class = [\n",
    "    0, 1, 0, 2, 2, 0, 0, 0, 1, 1, 2, 1\n",
    "]\n",
    "\n",
    "company_1 = ['stub_company_1' for i in range(len(worker_id))]\n",
    "company_2 = ['stub_company_2' for i in range(len(worker_id))]\n",
    "\n",
    "headline = ['Headline{}'.format(i % 5) for i in range(len(worker_id))]\n",
    "\n",
    "article_id = ['Article{}'.format(i % 5) for i in range(len(worker_id))]\n",
    "\n",
    "priority_score = [random.random() for i in range(len(worker_id))]\n",
    "\n",
    "initial_survey = pd.DataFrame({\n",
    "    'prolific_id': worker_id,\n",
    "    'headline': headline,\n",
    "    'article_id': article_id,\n",
    "    'response_class': response_class,\n",
    "    'company_1': company_1,\n",
    "    'company_2': company_2,\n",
    "    'priority_score': priority_score\n",
    "})\n",
    "\n",
    "initial_survey.to_csv('./test_data/initial_survey.csv')"
   ]
  },
  {
   "cell_type": "code",
   "execution_count": null,
   "metadata": {},
   "outputs": [],
   "source": []
  }
 ],
 "metadata": {
  "kernelspec": {
   "display_name": "Python 3",
   "language": "python",
   "name": "python3"
  },
  "language_info": {
   "codemirror_mode": {
    "name": "ipython",
    "version": 3
   },
   "file_extension": ".py",
   "mimetype": "text/x-python",
   "name": "python",
   "nbconvert_exporter": "python",
   "pygments_lexer": "ipython3",
   "version": "3.6.10"
  }
 },
 "nbformat": 4,
 "nbformat_minor": 4
}
